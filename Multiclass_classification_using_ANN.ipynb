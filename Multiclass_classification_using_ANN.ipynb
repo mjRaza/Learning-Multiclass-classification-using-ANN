{
  "nbformat": 4,
  "nbformat_minor": 0,
  "metadata": {
    "colab": {
      "name": "Multiclass classification using ANN.ipynb",
      "provenance": [],
      "collapsed_sections": []
    },
    "kernelspec": {
      "name": "python3",
      "display_name": "Python 3"
    }
  },
  "cells": [
    {
      "cell_type": "code",
      "metadata": {
        "id": "MyoTnAqifeJ-",
        "colab_type": "code",
        "outputId": "5b4d2a91-9017-43bc-ec62-3c6b38a11a0b",
        "colab": {
          "base_uri": "https://localhost:8080/",
          "height": 158
        }
      },
      "source": [
        "!pip install keras\n"
      ],
      "execution_count": 2,
      "outputs": [
        {
          "output_type": "stream",
          "text": [
            "Requirement already satisfied: keras in /usr/local/lib/python3.6/dist-packages (2.2.5)\n",
            "Requirement already satisfied: keras-applications>=1.0.8 in /usr/local/lib/python3.6/dist-packages (from keras) (1.0.8)\n",
            "Requirement already satisfied: scipy>=0.14 in /usr/local/lib/python3.6/dist-packages (from keras) (1.4.1)\n",
            "Requirement already satisfied: pyyaml in /usr/local/lib/python3.6/dist-packages (from keras) (3.13)\n",
            "Requirement already satisfied: numpy>=1.9.1 in /usr/local/lib/python3.6/dist-packages (from keras) (1.17.5)\n",
            "Requirement already satisfied: six>=1.9.0 in /usr/local/lib/python3.6/dist-packages (from keras) (1.12.0)\n",
            "Requirement already satisfied: keras-preprocessing>=1.1.0 in /usr/local/lib/python3.6/dist-packages (from keras) (1.1.0)\n",
            "Requirement already satisfied: h5py in /usr/local/lib/python3.6/dist-packages (from keras) (2.8.0)\n"
          ],
          "name": "stdout"
        }
      ]
    },
    {
      "cell_type": "code",
      "metadata": {
        "id": "i_KnJNY2WCAl",
        "colab_type": "code",
        "colab": {}
      },
      "source": [
        "import numpy as np\n",
        "import pandas as pd\n",
        "from matplotlib import pyplot as plt\n",
        "import io\n",
        "\n",
        "from sklearn.linear_model import LinearRegression\n",
        "from sklearn.preprocessing import MinMaxScaler, StandardScaler\n",
        "\n",
        "from sklearn.model_selection import train_test_split\n",
        "import seaborn as sns"
      ],
      "execution_count": 0,
      "outputs": []
    },
    {
      "cell_type": "code",
      "metadata": {
        "id": "MDnwELXvfj2t",
        "colab_type": "code",
        "colab": {
          "base_uri": "https://localhost:8080/",
          "height": 81
        },
        "outputId": "36fa0a79-935e-49c5-9c1c-08140f59351b"
      },
      "source": [
        "import keras\n",
        "from keras.models import  Sequential\n",
        "from keras.layers import  Dense\n",
        "from keras.optimizers import Adam"
      ],
      "execution_count": 4,
      "outputs": [
        {
          "output_type": "stream",
          "text": [
            "Using TensorFlow backend.\n"
          ],
          "name": "stderr"
        },
        {
          "output_type": "display_data",
          "data": {
            "text/html": [
              "<p style=\"color: red;\">\n",
              "The default version of TensorFlow in Colab will soon switch to TensorFlow 2.x.<br>\n",
              "We recommend you <a href=\"https://www.tensorflow.org/guide/migrate\" target=\"_blank\">upgrade</a> now \n",
              "or ensure your notebook will continue to use TensorFlow 1.x via the <code>%tensorflow_version 1.x</code> magic:\n",
              "<a href=\"https://colab.research.google.com/notebooks/tensorflow_version.ipynb\" target=\"_blank\">more info</a>.</p>\n"
            ],
            "text/plain": [
              "<IPython.core.display.HTML object>"
            ]
          },
          "metadata": {
            "tags": []
          }
        }
      ]
    },
    {
      "cell_type": "code",
      "metadata": {
        "id": "TtCnt3offyTf",
        "colab_type": "code",
        "colab": {}
      },
      "source": [
        "import pydot\n",
        "import graphviz\n",
        "# from Ipython.display import SVG\n",
        "from keras.utils.vis_utils import model_to_dot\n",
        "from keras.utils import plot_model\n",
        "\n",
        "\n",
        "\n"
      ],
      "execution_count": 0,
      "outputs": []
    },
    {
      "cell_type": "code",
      "metadata": {
        "id": "vGF4Tk6IVtEg",
        "colab_type": "code",
        "outputId": "881f58b5-2b01-4cff-fabe-8fc7db390f0f",
        "colab": {
          "resources": {
            "http://localhost:8080/nbextensions/google.colab/files.js": {
              "data": "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",
              "ok": true,
              "headers": [
                [
                  "content-type",
                  "application/javascript"
                ]
              ],
              "status": 200,
              "status_text": ""
            }
          },
          "base_uri": "https://localhost:8080/",
          "height": 92
        }
      },
      "source": [
        "from google.colab import files\n",
        "\n",
        "uploaded = files.upload()\n",
        "\n",
        "for fn in uploaded.keys():\n",
        "  print('User uploaded file \"{name}\" with length {length} bytes'.format(\n",
        "      name=fn, length=len(uploaded[fn])))"
      ],
      "execution_count": 8,
      "outputs": [
        {
          "output_type": "display_data",
          "data": {
            "text/html": [
              "\n",
              "     <input type=\"file\" id=\"files-e2e35209-2fb9-4c6d-aa49-1691770b8b32\" name=\"files[]\" multiple disabled />\n",
              "     <output id=\"result-e2e35209-2fb9-4c6d-aa49-1691770b8b32\">\n",
              "      Upload widget is only available when the cell has been executed in the\n",
              "      current browser session. Please rerun this cell to enable.\n",
              "      </output>\n",
              "      <script src=\"/nbextensions/google.colab/files.js\"></script> "
            ],
            "text/plain": [
              "<IPython.core.display.HTML object>"
            ]
          },
          "metadata": {
            "tags": []
          }
        },
        {
          "output_type": "stream",
          "text": [
            "Saving iris.csv to iris.csv\n",
            "User uploaded file \"iris.csv\" with length 3858 bytes\n"
          ],
          "name": "stdout"
        }
      ]
    },
    {
      "cell_type": "code",
      "metadata": {
        "id": "mAPa7CHbVyib",
        "colab_type": "code",
        "colab": {}
      },
      "source": [
        "df = pd.read_csv(io.StringIO(uploaded['iris.csv'].decode('utf-8')))"
      ],
      "execution_count": 0,
      "outputs": []
    },
    {
      "cell_type": "code",
      "metadata": {
        "id": "6GfaImy4V-Yq",
        "colab_type": "code",
        "outputId": "fd9e462c-91b2-42ea-848e-c1f962b7ccb6",
        "colab": {
          "base_uri": "https://localhost:8080/",
          "height": 197
        }
      },
      "source": [
        "df.head()\n"
      ],
      "execution_count": 10,
      "outputs": [
        {
          "output_type": "execute_result",
          "data": {
            "text/html": [
              "<div>\n",
              "<style scoped>\n",
              "    .dataframe tbody tr th:only-of-type {\n",
              "        vertical-align: middle;\n",
              "    }\n",
              "\n",
              "    .dataframe tbody tr th {\n",
              "        vertical-align: top;\n",
              "    }\n",
              "\n",
              "    .dataframe thead th {\n",
              "        text-align: right;\n",
              "    }\n",
              "</style>\n",
              "<table border=\"1\" class=\"dataframe\">\n",
              "  <thead>\n",
              "    <tr style=\"text-align: right;\">\n",
              "      <th></th>\n",
              "      <th>sepal_length</th>\n",
              "      <th>sepal_width</th>\n",
              "      <th>petal_length</th>\n",
              "      <th>petal_width</th>\n",
              "      <th>species</th>\n",
              "    </tr>\n",
              "  </thead>\n",
              "  <tbody>\n",
              "    <tr>\n",
              "      <th>0</th>\n",
              "      <td>5.1</td>\n",
              "      <td>3.5</td>\n",
              "      <td>1.4</td>\n",
              "      <td>0.2</td>\n",
              "      <td>setosa</td>\n",
              "    </tr>\n",
              "    <tr>\n",
              "      <th>1</th>\n",
              "      <td>4.9</td>\n",
              "      <td>3.0</td>\n",
              "      <td>1.4</td>\n",
              "      <td>0.2</td>\n",
              "      <td>setosa</td>\n",
              "    </tr>\n",
              "    <tr>\n",
              "      <th>2</th>\n",
              "      <td>4.7</td>\n",
              "      <td>3.2</td>\n",
              "      <td>1.3</td>\n",
              "      <td>0.2</td>\n",
              "      <td>setosa</td>\n",
              "    </tr>\n",
              "    <tr>\n",
              "      <th>3</th>\n",
              "      <td>4.6</td>\n",
              "      <td>3.1</td>\n",
              "      <td>1.5</td>\n",
              "      <td>0.2</td>\n",
              "      <td>setosa</td>\n",
              "    </tr>\n",
              "    <tr>\n",
              "      <th>4</th>\n",
              "      <td>5.0</td>\n",
              "      <td>3.6</td>\n",
              "      <td>1.4</td>\n",
              "      <td>0.2</td>\n",
              "      <td>setosa</td>\n",
              "    </tr>\n",
              "  </tbody>\n",
              "</table>\n",
              "</div>"
            ],
            "text/plain": [
              "   sepal_length  sepal_width  petal_length  petal_width species\n",
              "0           5.1          3.5           1.4          0.2  setosa\n",
              "1           4.9          3.0           1.4          0.2  setosa\n",
              "2           4.7          3.2           1.3          0.2  setosa\n",
              "3           4.6          3.1           1.5          0.2  setosa\n",
              "4           5.0          3.6           1.4          0.2  setosa"
            ]
          },
          "metadata": {
            "tags": []
          },
          "execution_count": 10
        }
      ]
    },
    {
      "cell_type": "code",
      "metadata": {
        "id": "CMQ54o_mWHTH",
        "colab_type": "code",
        "colab": {}
      },
      "source": [
        "X= df.iloc[:,0:4]\n",
        "y= df.iloc[:,4]"
      ],
      "execution_count": 0,
      "outputs": []
    },
    {
      "cell_type": "code",
      "metadata": {
        "id": "KHn1tBhug-1j",
        "colab_type": "code",
        "colab": {}
      },
      "source": [
        "\n"
      ],
      "execution_count": 0,
      "outputs": []
    },
    {
      "cell_type": "code",
      "metadata": {
        "id": "625zFApzg_cj",
        "colab_type": "code",
        "colab": {}
      },
      "source": [
        "#Label Encoding k lia\n",
        "from sklearn.preprocessing import LabelEncoder\n",
        "encoder=LabelEncoder()\n",
        "\n",
        "y1=encoder.fit_transform(y)\n",
        "Y=pd.get_dummies(y1).values\n"
      ],
      "execution_count": 0,
      "outputs": []
    },
    {
      "cell_type": "code",
      "metadata": {
        "id": "5TR35TbQhTov",
        "colab_type": "code",
        "colab": {}
      },
      "source": [
        "\n",
        "X_train,X_test,y_train,y_test=train_test_split(X,Y,test_size=0.2)\n"
      ],
      "execution_count": 0,
      "outputs": []
    },
    {
      "cell_type": "code",
      "metadata": {
        "id": "Z8K1BFDRVZC3",
        "colab_type": "code",
        "colab": {
          "base_uri": "https://localhost:8080/",
          "height": 406
        },
        "outputId": "2c10af2d-c754-4388-caea-ffcd9017877f"
      },
      "source": [
        "X_train\n"
      ],
      "execution_count": 17,
      "outputs": [
        {
          "output_type": "execute_result",
          "data": {
            "text/html": [
              "<div>\n",
              "<style scoped>\n",
              "    .dataframe tbody tr th:only-of-type {\n",
              "        vertical-align: middle;\n",
              "    }\n",
              "\n",
              "    .dataframe tbody tr th {\n",
              "        vertical-align: top;\n",
              "    }\n",
              "\n",
              "    .dataframe thead th {\n",
              "        text-align: right;\n",
              "    }\n",
              "</style>\n",
              "<table border=\"1\" class=\"dataframe\">\n",
              "  <thead>\n",
              "    <tr style=\"text-align: right;\">\n",
              "      <th></th>\n",
              "      <th>sepal_length</th>\n",
              "      <th>sepal_width</th>\n",
              "      <th>petal_length</th>\n",
              "      <th>petal_width</th>\n",
              "    </tr>\n",
              "  </thead>\n",
              "  <tbody>\n",
              "    <tr>\n",
              "      <th>99</th>\n",
              "      <td>5.7</td>\n",
              "      <td>2.8</td>\n",
              "      <td>4.1</td>\n",
              "      <td>1.3</td>\n",
              "    </tr>\n",
              "    <tr>\n",
              "      <th>133</th>\n",
              "      <td>6.3</td>\n",
              "      <td>2.8</td>\n",
              "      <td>5.1</td>\n",
              "      <td>1.5</td>\n",
              "    </tr>\n",
              "    <tr>\n",
              "      <th>127</th>\n",
              "      <td>6.1</td>\n",
              "      <td>3.0</td>\n",
              "      <td>4.9</td>\n",
              "      <td>1.8</td>\n",
              "    </tr>\n",
              "    <tr>\n",
              "      <th>37</th>\n",
              "      <td>4.9</td>\n",
              "      <td>3.1</td>\n",
              "      <td>1.5</td>\n",
              "      <td>0.1</td>\n",
              "    </tr>\n",
              "    <tr>\n",
              "      <th>56</th>\n",
              "      <td>6.3</td>\n",
              "      <td>3.3</td>\n",
              "      <td>4.7</td>\n",
              "      <td>1.6</td>\n",
              "    </tr>\n",
              "    <tr>\n",
              "      <th>...</th>\n",
              "      <td>...</td>\n",
              "      <td>...</td>\n",
              "      <td>...</td>\n",
              "      <td>...</td>\n",
              "    </tr>\n",
              "    <tr>\n",
              "      <th>29</th>\n",
              "      <td>4.7</td>\n",
              "      <td>3.2</td>\n",
              "      <td>1.6</td>\n",
              "      <td>0.2</td>\n",
              "    </tr>\n",
              "    <tr>\n",
              "      <th>19</th>\n",
              "      <td>5.1</td>\n",
              "      <td>3.8</td>\n",
              "      <td>1.5</td>\n",
              "      <td>0.3</td>\n",
              "    </tr>\n",
              "    <tr>\n",
              "      <th>126</th>\n",
              "      <td>6.2</td>\n",
              "      <td>2.8</td>\n",
              "      <td>4.8</td>\n",
              "      <td>1.8</td>\n",
              "    </tr>\n",
              "    <tr>\n",
              "      <th>33</th>\n",
              "      <td>5.5</td>\n",
              "      <td>4.2</td>\n",
              "      <td>1.4</td>\n",
              "      <td>0.2</td>\n",
              "    </tr>\n",
              "    <tr>\n",
              "      <th>78</th>\n",
              "      <td>6.0</td>\n",
              "      <td>2.9</td>\n",
              "      <td>4.5</td>\n",
              "      <td>1.5</td>\n",
              "    </tr>\n",
              "  </tbody>\n",
              "</table>\n",
              "<p>120 rows × 4 columns</p>\n",
              "</div>"
            ],
            "text/plain": [
              "     sepal_length  sepal_width  petal_length  petal_width\n",
              "99            5.7          2.8           4.1          1.3\n",
              "133           6.3          2.8           5.1          1.5\n",
              "127           6.1          3.0           4.9          1.8\n",
              "37            4.9          3.1           1.5          0.1\n",
              "56            6.3          3.3           4.7          1.6\n",
              "..            ...          ...           ...          ...\n",
              "29            4.7          3.2           1.6          0.2\n",
              "19            5.1          3.8           1.5          0.3\n",
              "126           6.2          2.8           4.8          1.8\n",
              "33            5.5          4.2           1.4          0.2\n",
              "78            6.0          2.9           4.5          1.5\n",
              "\n",
              "[120 rows x 4 columns]"
            ]
          },
          "metadata": {
            "tags": []
          },
          "execution_count": 17
        }
      ]
    },
    {
      "cell_type": "code",
      "metadata": {
        "id": "opd-qliThrkR",
        "colab_type": "code",
        "colab": {
          "base_uri": "https://localhost:8080/",
          "height": 107
        },
        "outputId": "c43ea25a-d0e1-4f56-f223-96a8c712a391"
      },
      "source": [
        "model=Sequential()\n",
        "model.add(Dense(4,input_shape=(4,),activation='relu'))\n",
        "\n",
        "#Layer2 for Output or yahan 3 islia likha ha q k 0 1 ya pher 2 mein se koi 1 ai ga ans\n",
        "model.add(Dense(3,activation='softmax'))\n"
      ],
      "execution_count": 19,
      "outputs": [
        {
          "output_type": "stream",
          "text": [
            "WARNING:tensorflow:From /usr/local/lib/python3.6/dist-packages/keras/backend/tensorflow_backend.py:541: The name tf.placeholder is deprecated. Please use tf.compat.v1.placeholder instead.\n",
            "\n",
            "WARNING:tensorflow:From /usr/local/lib/python3.6/dist-packages/keras/backend/tensorflow_backend.py:4432: The name tf.random_uniform is deprecated. Please use tf.random.uniform instead.\n",
            "\n"
          ],
          "name": "stdout"
        }
      ]
    },
    {
      "cell_type": "code",
      "metadata": {
        "id": "tH3FGdDGWMiq",
        "colab_type": "code",
        "colab": {
          "base_uri": "https://localhost:8080/",
          "height": 107
        },
        "outputId": "999bb035-b638-4807-8de1-8a4475154a13"
      },
      "source": [
        "model.compile(optimizer='Adam', loss='categorical_crossentropy', metrics=['accuracy'])\n"
      ],
      "execution_count": 20,
      "outputs": [
        {
          "output_type": "stream",
          "text": [
            "WARNING:tensorflow:From /usr/local/lib/python3.6/dist-packages/keras/optimizers.py:793: The name tf.train.Optimizer is deprecated. Please use tf.compat.v1.train.Optimizer instead.\n",
            "\n",
            "WARNING:tensorflow:From /usr/local/lib/python3.6/dist-packages/keras/backend/tensorflow_backend.py:3576: The name tf.log is deprecated. Please use tf.math.log instead.\n",
            "\n"
          ],
          "name": "stdout"
        }
      ]
    },
    {
      "cell_type": "code",
      "metadata": {
        "id": "vhRowlapY1CW",
        "colab_type": "code",
        "colab": {
          "base_uri": "https://localhost:8080/",
          "height": 1000
        },
        "outputId": "6f133d6a-57e4-470b-a55c-efdf77e16fb8"
      },
      "source": [
        "model.fit(X_train,y_train, batch_size=10, epochs=100)\n"
      ],
      "execution_count": 21,
      "outputs": [
        {
          "output_type": "stream",
          "text": [
            "WARNING:tensorflow:From /usr/local/lib/python3.6/dist-packages/tensorflow_core/python/ops/math_grad.py:1424: where (from tensorflow.python.ops.array_ops) is deprecated and will be removed in a future version.\n",
            "Instructions for updating:\n",
            "Use tf.where in 2.0, which has the same broadcast rule as np.where\n",
            "WARNING:tensorflow:From /usr/local/lib/python3.6/dist-packages/keras/backend/tensorflow_backend.py:1033: The name tf.assign_add is deprecated. Please use tf.compat.v1.assign_add instead.\n",
            "\n",
            "WARNING:tensorflow:From /usr/local/lib/python3.6/dist-packages/keras/backend/tensorflow_backend.py:1020: The name tf.assign is deprecated. Please use tf.compat.v1.assign instead.\n",
            "\n",
            "WARNING:tensorflow:From /usr/local/lib/python3.6/dist-packages/keras/backend/tensorflow_backend.py:3005: The name tf.Session is deprecated. Please use tf.compat.v1.Session instead.\n",
            "\n",
            "Epoch 1/100\n",
            "WARNING:tensorflow:From /usr/local/lib/python3.6/dist-packages/keras/backend/tensorflow_backend.py:190: The name tf.get_default_session is deprecated. Please use tf.compat.v1.get_default_session instead.\n",
            "\n",
            "WARNING:tensorflow:From /usr/local/lib/python3.6/dist-packages/keras/backend/tensorflow_backend.py:197: The name tf.ConfigProto is deprecated. Please use tf.compat.v1.ConfigProto instead.\n",
            "\n",
            "WARNING:tensorflow:From /usr/local/lib/python3.6/dist-packages/keras/backend/tensorflow_backend.py:207: The name tf.global_variables is deprecated. Please use tf.compat.v1.global_variables instead.\n",
            "\n",
            "WARNING:tensorflow:From /usr/local/lib/python3.6/dist-packages/keras/backend/tensorflow_backend.py:216: The name tf.is_variable_initialized is deprecated. Please use tf.compat.v1.is_variable_initialized instead.\n",
            "\n",
            "WARNING:tensorflow:From /usr/local/lib/python3.6/dist-packages/keras/backend/tensorflow_backend.py:223: The name tf.variables_initializer is deprecated. Please use tf.compat.v1.variables_initializer instead.\n",
            "\n",
            "120/120 [==============================] - 1s 5ms/step - loss: 1.3970 - acc: 0.0167\n",
            "Epoch 2/100\n",
            "120/120 [==============================] - 0s 157us/step - loss: 1.3348 - acc: 0.1250\n",
            "Epoch 3/100\n",
            "120/120 [==============================] - 0s 145us/step - loss: 1.2851 - acc: 0.1833\n",
            "Epoch 4/100\n",
            "120/120 [==============================] - 0s 180us/step - loss: 1.2427 - acc: 0.2167\n",
            "Epoch 5/100\n",
            "120/120 [==============================] - 0s 154us/step - loss: 1.2077 - acc: 0.2417\n",
            "Epoch 6/100\n",
            "120/120 [==============================] - 0s 178us/step - loss: 1.1787 - acc: 0.2500\n",
            "Epoch 7/100\n",
            "120/120 [==============================] - 0s 136us/step - loss: 1.1530 - acc: 0.2667\n",
            "Epoch 8/100\n",
            "120/120 [==============================] - 0s 140us/step - loss: 1.1318 - acc: 0.2833\n",
            "Epoch 9/100\n",
            "120/120 [==============================] - 0s 139us/step - loss: 1.1153 - acc: 0.2917\n",
            "Epoch 10/100\n",
            "120/120 [==============================] - 0s 140us/step - loss: 1.1043 - acc: 0.3000\n",
            "Epoch 11/100\n",
            "120/120 [==============================] - 0s 154us/step - loss: 1.0991 - acc: 0.3000\n",
            "Epoch 12/100\n",
            "120/120 [==============================] - 0s 139us/step - loss: 1.0933 - acc: 0.2917\n",
            "Epoch 13/100\n",
            "120/120 [==============================] - 0s 167us/step - loss: 1.0894 - acc: 0.2833\n",
            "Epoch 14/100\n",
            "120/120 [==============================] - 0s 213us/step - loss: 1.0869 - acc: 0.2750\n",
            "Epoch 15/100\n",
            "120/120 [==============================] - 0s 210us/step - loss: 1.0854 - acc: 0.2583\n",
            "Epoch 16/100\n",
            "120/120 [==============================] - 0s 175us/step - loss: 1.0830 - acc: 0.2583\n",
            "Epoch 17/100\n",
            "120/120 [==============================] - 0s 171us/step - loss: 1.0817 - acc: 0.2583\n",
            "Epoch 18/100\n",
            "120/120 [==============================] - 0s 159us/step - loss: 1.0803 - acc: 0.2500\n",
            "Epoch 19/100\n",
            "120/120 [==============================] - 0s 248us/step - loss: 1.0786 - acc: 0.2583\n",
            "Epoch 20/100\n",
            "120/120 [==============================] - 0s 152us/step - loss: 1.0774 - acc: 0.2583\n",
            "Epoch 21/100\n",
            "120/120 [==============================] - 0s 214us/step - loss: 1.0760 - acc: 0.2667\n",
            "Epoch 22/100\n",
            "120/120 [==============================] - 0s 183us/step - loss: 1.0746 - acc: 0.2667\n",
            "Epoch 23/100\n",
            "120/120 [==============================] - 0s 200us/step - loss: 1.0735 - acc: 0.2583\n",
            "Epoch 24/100\n",
            "120/120 [==============================] - 0s 162us/step - loss: 1.0722 - acc: 0.2667\n",
            "Epoch 25/100\n",
            "120/120 [==============================] - 0s 133us/step - loss: 1.0706 - acc: 0.2583\n",
            "Epoch 26/100\n",
            "120/120 [==============================] - 0s 171us/step - loss: 1.0692 - acc: 0.2583\n",
            "Epoch 27/100\n",
            "120/120 [==============================] - 0s 140us/step - loss: 1.0682 - acc: 0.2500\n",
            "Epoch 28/100\n",
            "120/120 [==============================] - 0s 130us/step - loss: 1.0661 - acc: 0.2500\n",
            "Epoch 29/100\n",
            "120/120 [==============================] - 0s 134us/step - loss: 1.0644 - acc: 0.2583\n",
            "Epoch 30/100\n",
            "120/120 [==============================] - 0s 209us/step - loss: 1.0627 - acc: 0.2583\n",
            "Epoch 31/100\n",
            "120/120 [==============================] - 0s 204us/step - loss: 1.0608 - acc: 0.4000\n",
            "Epoch 32/100\n",
            "120/120 [==============================] - 0s 158us/step - loss: 1.0591 - acc: 0.4833\n",
            "Epoch 33/100\n",
            "120/120 [==============================] - 0s 148us/step - loss: 1.0579 - acc: 0.4917\n",
            "Epoch 34/100\n",
            "120/120 [==============================] - 0s 154us/step - loss: 1.0545 - acc: 0.5083\n",
            "Epoch 35/100\n",
            "120/120 [==============================] - 0s 157us/step - loss: 1.0526 - acc: 0.5333\n",
            "Epoch 36/100\n",
            "120/120 [==============================] - 0s 144us/step - loss: 1.0495 - acc: 0.5250\n",
            "Epoch 37/100\n",
            "120/120 [==============================] - 0s 164us/step - loss: 1.0461 - acc: 0.5250\n",
            "Epoch 38/100\n",
            "120/120 [==============================] - 0s 181us/step - loss: 1.0426 - acc: 0.5250\n",
            "Epoch 39/100\n",
            "120/120 [==============================] - 0s 162us/step - loss: 1.0392 - acc: 0.5333\n",
            "Epoch 40/100\n",
            "120/120 [==============================] - 0s 150us/step - loss: 1.0355 - acc: 0.5667\n",
            "Epoch 41/100\n",
            "120/120 [==============================] - 0s 152us/step - loss: 1.0323 - acc: 0.5667\n",
            "Epoch 42/100\n",
            "120/120 [==============================] - 0s 153us/step - loss: 1.0272 - acc: 0.5750\n",
            "Epoch 43/100\n",
            "120/120 [==============================] - 0s 145us/step - loss: 1.0228 - acc: 0.5917\n",
            "Epoch 44/100\n",
            "120/120 [==============================] - 0s 148us/step - loss: 1.0183 - acc: 0.6000\n",
            "Epoch 45/100\n",
            "120/120 [==============================] - 0s 183us/step - loss: 1.0133 - acc: 0.6167\n",
            "Epoch 46/100\n",
            "120/120 [==============================] - 0s 229us/step - loss: 1.0079 - acc: 0.6167\n",
            "Epoch 47/100\n",
            "120/120 [==============================] - 0s 161us/step - loss: 1.0026 - acc: 0.6333\n",
            "Epoch 48/100\n",
            "120/120 [==============================] - 0s 175us/step - loss: 0.9976 - acc: 0.6500\n",
            "Epoch 49/100\n",
            "120/120 [==============================] - 0s 137us/step - loss: 0.9908 - acc: 0.6583\n",
            "Epoch 50/100\n",
            "120/120 [==============================] - 0s 146us/step - loss: 0.9844 - acc: 0.6667\n",
            "Epoch 51/100\n",
            "120/120 [==============================] - 0s 158us/step - loss: 0.9779 - acc: 0.6500\n",
            "Epoch 52/100\n",
            "120/120 [==============================] - 0s 161us/step - loss: 0.9705 - acc: 0.6667\n",
            "Epoch 53/100\n",
            "120/120 [==============================] - 0s 187us/step - loss: 0.9635 - acc: 0.6500\n",
            "Epoch 54/100\n",
            "120/120 [==============================] - 0s 167us/step - loss: 0.9565 - acc: 0.6833\n",
            "Epoch 55/100\n",
            "120/120 [==============================] - 0s 130us/step - loss: 0.9487 - acc: 0.7167\n",
            "Epoch 56/100\n",
            "120/120 [==============================] - 0s 150us/step - loss: 0.9407 - acc: 0.7500\n",
            "Epoch 57/100\n",
            "120/120 [==============================] - 0s 158us/step - loss: 0.9323 - acc: 0.7500\n",
            "Epoch 58/100\n",
            "120/120 [==============================] - 0s 155us/step - loss: 0.9239 - acc: 0.7750\n",
            "Epoch 59/100\n",
            "120/120 [==============================] - 0s 139us/step - loss: 0.9155 - acc: 0.7750\n",
            "Epoch 60/100\n",
            "120/120 [==============================] - 0s 193us/step - loss: 0.9073 - acc: 0.7750\n",
            "Epoch 61/100\n",
            "120/120 [==============================] - 0s 192us/step - loss: 0.8980 - acc: 0.7917\n",
            "Epoch 62/100\n",
            "120/120 [==============================] - 0s 204us/step - loss: 0.8902 - acc: 0.7917\n",
            "Epoch 63/100\n",
            "120/120 [==============================] - 0s 174us/step - loss: 0.8804 - acc: 0.8333\n",
            "Epoch 64/100\n",
            "120/120 [==============================] - 0s 158us/step - loss: 0.8709 - acc: 0.8417\n",
            "Epoch 65/100\n",
            "120/120 [==============================] - 0s 154us/step - loss: 0.8615 - acc: 0.8417\n",
            "Epoch 66/100\n",
            "120/120 [==============================] - 0s 169us/step - loss: 0.8524 - acc: 0.8417\n",
            "Epoch 67/100\n",
            "120/120 [==============================] - 0s 171us/step - loss: 0.8434 - acc: 0.8667\n",
            "Epoch 68/100\n",
            "120/120 [==============================] - 0s 143us/step - loss: 0.8355 - acc: 0.8750\n",
            "Epoch 69/100\n",
            "120/120 [==============================] - 0s 139us/step - loss: 0.8254 - acc: 0.8750\n",
            "Epoch 70/100\n",
            "120/120 [==============================] - 0s 138us/step - loss: 0.8180 - acc: 0.8500\n",
            "Epoch 71/100\n",
            "120/120 [==============================] - 0s 150us/step - loss: 0.8084 - acc: 0.8500\n",
            "Epoch 72/100\n",
            "120/120 [==============================] - 0s 155us/step - loss: 0.7993 - acc: 0.8583\n",
            "Epoch 73/100\n",
            "120/120 [==============================] - 0s 144us/step - loss: 0.7913 - acc: 0.8583\n",
            "Epoch 74/100\n",
            "120/120 [==============================] - 0s 173us/step - loss: 0.7833 - acc: 0.8667\n",
            "Epoch 75/100\n",
            "120/120 [==============================] - 0s 161us/step - loss: 0.7751 - acc: 0.8667\n",
            "Epoch 76/100\n",
            "120/120 [==============================] - 0s 139us/step - loss: 0.7670 - acc: 0.8667\n",
            "Epoch 77/100\n",
            "120/120 [==============================] - 0s 139us/step - loss: 0.7592 - acc: 0.8833\n",
            "Epoch 78/100\n",
            "120/120 [==============================] - 0s 151us/step - loss: 0.7509 - acc: 0.8750\n",
            "Epoch 79/100\n",
            "120/120 [==============================] - 0s 137us/step - loss: 0.7436 - acc: 0.8750\n",
            "Epoch 80/100\n",
            "120/120 [==============================] - 0s 143us/step - loss: 0.7356 - acc: 0.8833\n",
            "Epoch 81/100\n",
            "120/120 [==============================] - 0s 132us/step - loss: 0.7295 - acc: 0.8583\n",
            "Epoch 82/100\n",
            "120/120 [==============================] - 0s 155us/step - loss: 0.7205 - acc: 0.8667\n",
            "Epoch 83/100\n",
            "120/120 [==============================] - 0s 172us/step - loss: 0.7138 - acc: 0.8750\n",
            "Epoch 84/100\n",
            "120/120 [==============================] - 0s 156us/step - loss: 0.7067 - acc: 0.8833\n",
            "Epoch 85/100\n",
            "120/120 [==============================] - 0s 157us/step - loss: 0.6998 - acc: 0.8750\n",
            "Epoch 86/100\n",
            "120/120 [==============================] - 0s 186us/step - loss: 0.6927 - acc: 0.8833\n",
            "Epoch 87/100\n",
            "120/120 [==============================] - 0s 150us/step - loss: 0.6861 - acc: 0.8833\n",
            "Epoch 88/100\n",
            "120/120 [==============================] - 0s 159us/step - loss: 0.6790 - acc: 0.8833\n",
            "Epoch 89/100\n",
            "120/120 [==============================] - 0s 148us/step - loss: 0.6723 - acc: 0.8750\n",
            "Epoch 90/100\n",
            "120/120 [==============================] - 0s 139us/step - loss: 0.6662 - acc: 0.8833\n",
            "Epoch 91/100\n",
            "120/120 [==============================] - 0s 132us/step - loss: 0.6596 - acc: 0.8833\n",
            "Epoch 92/100\n",
            "120/120 [==============================] - 0s 145us/step - loss: 0.6533 - acc: 0.8750\n",
            "Epoch 93/100\n",
            "120/120 [==============================] - 0s 166us/step - loss: 0.6478 - acc: 0.8750\n",
            "Epoch 94/100\n",
            "120/120 [==============================] - 0s 137us/step - loss: 0.6419 - acc: 0.8917\n",
            "Epoch 95/100\n",
            "120/120 [==============================] - 0s 146us/step - loss: 0.6346 - acc: 0.8917\n",
            "Epoch 96/100\n",
            "120/120 [==============================] - 0s 158us/step - loss: 0.6290 - acc: 0.8750\n",
            "Epoch 97/100\n",
            "120/120 [==============================] - 0s 144us/step - loss: 0.6233 - acc: 0.8750\n",
            "Epoch 98/100\n",
            "120/120 [==============================] - 0s 139us/step - loss: 0.6176 - acc: 0.8833\n",
            "Epoch 99/100\n",
            "120/120 [==============================] - 0s 141us/step - loss: 0.6121 - acc: 0.8917\n",
            "Epoch 100/100\n",
            "120/120 [==============================] - 0s 139us/step - loss: 0.6064 - acc: 0.8917\n"
          ],
          "name": "stdout"
        },
        {
          "output_type": "execute_result",
          "data": {
            "text/plain": [
              "<keras.callbacks.History at 0x7f1c76502198>"
            ]
          },
          "metadata": {
            "tags": []
          },
          "execution_count": 21
        }
      ]
    },
    {
      "cell_type": "code",
      "metadata": {
        "id": "girBNbNkZLs-",
        "colab_type": "code",
        "colab": {}
      },
      "source": [
        "y_pred= model.predict(X_test)\n",
        "y_test_class=np.argmax(y_test,axis=1)\n",
        "y_pred_class=np.argmax(y_pred,axis=1)\n"
      ],
      "execution_count": 0,
      "outputs": []
    },
    {
      "cell_type": "code",
      "metadata": {
        "id": "XNsvD6P_ZvVp",
        "colab_type": "code",
        "colab": {
          "base_uri": "https://localhost:8080/",
          "height": 247
        },
        "outputId": "3156a365-bdc6-4be8-dac0-4da0c5c66107"
      },
      "source": [
        "from sklearn.metrics import classification_report,confusion_matrix\n",
        "print(classification_report(y_test_class,y_pred_class))\n",
        "print(confusion_matrix(y_test_class,y_pred_class))"
      ],
      "execution_count": 24,
      "outputs": [
        {
          "output_type": "stream",
          "text": [
            "              precision    recall  f1-score   support\n",
            "\n",
            "           0       1.00      1.00      1.00         6\n",
            "           1       1.00      0.54      0.70        13\n",
            "           2       0.65      1.00      0.79        11\n",
            "\n",
            "    accuracy                           0.80        30\n",
            "   macro avg       0.88      0.85      0.83        30\n",
            "weighted avg       0.87      0.80      0.79        30\n",
            "\n",
            "[[ 6  0  0]\n",
            " [ 0  7  6]\n",
            " [ 0  0 11]]\n"
          ],
          "name": "stdout"
        }
      ]
    },
    {
      "cell_type": "code",
      "metadata": {
        "id": "Zuz9r_6PZzh7",
        "colab_type": "code",
        "colab": {
          "base_uri": "https://localhost:8080/",
          "height": 34
        },
        "outputId": "82b4faee-c5a5-42f1-aa76-087d7505962f"
      },
      "source": [
        "#total accuracy\n",
        "(6+7+11)/30"
      ],
      "execution_count": 25,
      "outputs": [
        {
          "output_type": "execute_result",
          "data": {
            "text/plain": [
              "0.8"
            ]
          },
          "metadata": {
            "tags": []
          },
          "execution_count": 25
        }
      ]
    },
    {
      "cell_type": "code",
      "metadata": {
        "id": "NZPpeFVFj2i4",
        "colab_type": "code",
        "colab": {}
      },
      "source": [
        ""
      ],
      "execution_count": 0,
      "outputs": []
    },
    {
      "cell_type": "code",
      "metadata": {
        "id": "EqPXnQF6ahi6",
        "colab_type": "code",
        "colab": {}
      },
      "source": [
        ""
      ],
      "execution_count": 0,
      "outputs": []
    }
  ]
}